{
 "cells": [
  {
   "cell_type": "code",
   "execution_count": 5,
   "metadata": {
    "scrolled": true
   },
   "outputs": [
    {
     "name": "stdout",
     "output_type": "stream",
     "text": [
      "10.0 3.0\n",
      "3.333\n"
     ]
    }
   ],
   "source": [
    "# 6043 \n",
    "\n",
    "f1 , f2 = map(float , input().split())\n",
    "\n",
    "print(format(f1/f2 , \".3f\"))"
   ]
  },
  {
   "cell_type": "code",
   "execution_count": 24,
   "metadata": {
    "scrolled": true
   },
   "outputs": [
    {
     "name": "stdout",
     "output_type": "stream",
     "text": [
      "10 3\n",
      "13\n",
      "7\n",
      "30\n",
      "3\n",
      "1\n",
      "3.33\n"
     ]
    }
   ],
   "source": [
    "# 6044 \n",
    "\n",
    "int1 , int2 = map(int , input().split())\n",
    "\n",
    "print(int1+int2,\n",
    "     int1-int2,\n",
    "     int1*int2,\n",
    "     int1//int2,\n",
    "     int1%int2,\n",
    "     (format(int1/int2,\".2f\")),\n",
    "     sep = '\\n')"
   ]
  },
  {
   "cell_type": "code",
   "execution_count": 37,
   "metadata": {
    "scrolled": false
   },
   "outputs": [
    {
     "name": "stdout",
     "output_type": "stream",
     "text": [
      "1 2 3\n",
      "6 2.00\n"
     ]
    }
   ],
   "source": [
    "# 6045\n",
    "\n",
    "a , b  , c = map(int ,input().split())\n",
    "\n",
    "sum_abc = a+b+c\n",
    "len_abc = len([a,b,c])\n",
    "\n",
    "\n",
    "print(sum_abc , \n",
    "     format( sum_abc / len_abc , \".2f\" ))"
   ]
  },
  {
   "cell_type": "code",
   "execution_count": null,
   "metadata": {},
   "outputs": [],
   "source": [
    "# 6046 :: 비트시프트연산★★★\n",
    "\n",
    "# 2진수로 나타내었을 때 .. \n",
    "# <<   :: 뒤에 0추가 a * b^n\n",
    "# >> :: 뒤부터 한자리씩 지워나감\n",
    "\n",
    "\n",
    "\n",
    "a = int(input())\n",
    "\n",
    "print(a<<1)"
   ]
  },
  {
   "cell_type": "code",
   "execution_count": 74,
   "metadata": {},
   "outputs": [
    {
     "name": "stdout",
     "output_type": "stream",
     "text": [
      "2 10\n",
      "2048\n"
     ]
    }
   ],
   "source": [
    "# 6047 \n",
    "\n",
    "\n",
    "a , b = map(int , input().split())\n",
    "\n",
    "print(a<<b)"
   ]
  },
  {
   "cell_type": "code",
   "execution_count": 77,
   "metadata": {},
   "outputs": [
    {
     "name": "stdout",
     "output_type": "stream",
     "text": [
      "0 0\n",
      "True\n"
     ]
    }
   ],
   "source": [
    "# 6048\n",
    "\n",
    "a , b = map(int , input().split())\n",
    "print(a<b)"
   ]
  },
  {
   "cell_type": "code",
   "execution_count": 78,
   "metadata": {},
   "outputs": [
    {
     "name": "stdout",
     "output_type": "stream",
     "text": [
      "2 0\n",
      "False\n"
     ]
    }
   ],
   "source": [
    "# 6049\n",
    "\n",
    "a , b = map(int , input().split())\n",
    "print(a==b)"
   ]
  },
  {
   "cell_type": "code",
   "execution_count": 80,
   "metadata": {},
   "outputs": [
    {
     "name": "stdout",
     "output_type": "stream",
     "text": [
      "0 -1\n",
      "False\n"
     ]
    }
   ],
   "source": [
    "# 6050 \n",
    "\n",
    "a , b = map(int , input().split())\n",
    "\n",
    "print(b>=a)"
   ]
  },
  {
   "cell_type": "code",
   "execution_count": 88,
   "metadata": {},
   "outputs": [
    {
     "name": "stdout",
     "output_type": "stream",
     "text": [
      "1 2\n",
      "True\n"
     ]
    }
   ],
   "source": [
    "# 6051 \n",
    "\n",
    "a , b = map(int , input().split())\n",
    "\n",
    "print(a!=b)"
   ]
  },
  {
   "cell_type": "code",
   "execution_count": 92,
   "metadata": {},
   "outputs": [
    {
     "name": "stdout",
     "output_type": "stream",
     "text": [
      "8\n",
      "True\n"
     ]
    }
   ],
   "source": [
    "# 6052 \n",
    "\n",
    "a = int(input())\n",
    "print(bool(a))"
   ]
  },
  {
   "cell_type": "code",
   "execution_count": 93,
   "metadata": {},
   "outputs": [
    {
     "name": "stdout",
     "output_type": "stream",
     "text": [
      "0\n",
      "True\n"
     ]
    }
   ],
   "source": [
    "# 6053\n",
    "\n",
    "a = int(input())\n",
    "print(not bool(a))"
   ]
  },
  {
   "cell_type": "code",
   "execution_count": 96,
   "metadata": {},
   "outputs": [
    {
     "name": "stdout",
     "output_type": "stream",
     "text": [
      "0 0\n",
      "False\n"
     ]
    }
   ],
   "source": [
    "# 6054\n",
    "\n",
    "a , b = map(int , input().split())\n",
    "\n",
    "print(bool(a) and bool(b))"
   ]
  },
  {
   "cell_type": "code",
   "execution_count": 97,
   "metadata": {},
   "outputs": [
    {
     "name": "stdout",
     "output_type": "stream",
     "text": [
      "2 3\n",
      "True\n"
     ]
    }
   ],
   "source": [
    "# 6055\n",
    "\n",
    "a , b = map(int , input().split())\n",
    "\n",
    "print(bool(a) or bool(b))"
   ]
  },
  {
   "cell_type": "code",
   "execution_count": null,
   "metadata": {},
   "outputs": [],
   "source": [
    "# 6056\n",
    "# 참 거짓이 서로 다를 때에만 True 로 계산하는 논리연산을\n",
    "# XOR(exclusive or, 배타적 논리합) 연산이라고도 부른다.\n",
    "\n",
    "a , b = map(int , input().split())\n",
    "\n",
    "print(bool(a) or bool(b))"
   ]
  },
  {
   "cell_type": "code",
   "execution_count": null,
   "metadata": {},
   "outputs": [],
   "source": [
    "# True or True => True \n",
    "# True or False => False \n",
    "# False or True => False \n",
    "# False or False => False \n",
    "\n",
    "\n",
    "# True , False \n",
    "\n",
    "# (True or not False) or (not True or False)"
   ]
  },
  {
   "cell_type": "code",
   "execution_count": null,
   "metadata": {},
   "outputs": [],
   "source": [
    "# 6057"
   ]
  },
  {
   "cell_type": "code",
   "execution_count": null,
   "metadata": {},
   "outputs": [],
   "source": [
    "# 6058 \n",
    "\n",
    "a , b = map(int , input().split())\n",
    "\n",
    "c ,d = bool(a) , bool(b)\n",
    "\n",
    "print(   not c and not d       )"
   ]
  },
  {
   "cell_type": "code",
   "execution_count": null,
   "metadata": {},
   "outputs": [],
   "source": [
    "# 6059 \n",
    "\n",
    "a = int(input())\n",
    "print(~a)"
   ]
  },
  {
   "cell_type": "code",
   "execution_count": 28,
   "metadata": {},
   "outputs": [
    {
     "name": "stdout",
     "output_type": "stream",
     "text": [
      "4 9\n",
      "0\n"
     ]
    }
   ],
   "source": [
    "# 6060 \n",
    "\n",
    "a , b = map(int , input().split())\n",
    "\n",
    "print(a&b)\n"
   ]
  },
  {
   "cell_type": "code",
   "execution_count": 29,
   "metadata": {},
   "outputs": [
    {
     "name": "stdout",
     "output_type": "stream",
     "text": [
      "3 4\n",
      "7\n"
     ]
    }
   ],
   "source": [
    "# 6061\n",
    "\n",
    "a , b = map(int , input().split())\n",
    "\n",
    "print(a | b)"
   ]
  },
  {
   "cell_type": "code",
   "execution_count": 34,
   "metadata": {},
   "outputs": [
    {
     "name": "stdout",
     "output_type": "stream",
     "text": [
      "3 5\n",
      "6\n"
     ]
    }
   ],
   "source": [
    "# 6062\n",
    "a , b = map(int , input().split())\n",
    "\n",
    "print(a^b)"
   ]
  },
  {
   "cell_type": "code",
   "execution_count": 38,
   "metadata": {},
   "outputs": [
    {
     "data": {
      "text/plain": [
       "('11', '101')"
      ]
     },
     "execution_count": 38,
     "metadata": {},
     "output_type": "execute_result"
    }
   ],
   "source": [
    "bin(3).replace('0b','') , bin(5).replace('0b','')\n",
    "print(\n",
    "True or True , # xor : False\n",
    "\n",
    "True or False , # xor : True\n",
    "\n",
    "False or True , # xor : True\n",
    "\n",
    "False or False , # xor : False\n",
    "sep=  '\\n')"
   ]
  },
  {
   "cell_type": "code",
   "execution_count": 41,
   "metadata": {},
   "outputs": [
    {
     "name": "stdout",
     "output_type": "stream",
     "text": [
      "123 456\n",
      "456\n"
     ]
    }
   ],
   "source": [
    "# 6063\n",
    "\n",
    "a , b = map(int , input().split())\n",
    "\n",
    "if a > b:\n",
    "    print(a)\n",
    "else:\n",
    "    print(b)\n",
    "    \n",
    "# 6063-1 \n",
    "\n",
    "a , b = map(int , input().split())\n",
    "print(a) if a>=b else print(b)"
   ]
  },
  {
   "cell_type": "code",
   "execution_count": 51,
   "metadata": {},
   "outputs": [
    {
     "name": "stdout",
     "output_type": "stream",
     "text": [
      "3 -1 5\n",
      "-1\n"
     ]
    }
   ],
   "source": [
    "# 6064\n",
    "\n",
    "a , b , c = map(int , input().split())\n",
    "\n",
    "\n",
    "print((a if a<b else b) if ((a if a<b else b)<c) else c)"
   ]
  },
  {
   "cell_type": "code",
   "execution_count": 71,
   "metadata": {},
   "outputs": [
    {
     "name": "stdout",
     "output_type": "stream",
     "text": [
      "1 2 4\n",
      "2\n",
      "4\n"
     ]
    }
   ],
   "source": [
    "# 6065\n",
    "\n",
    "a , b , c = map(int , input().split())\n",
    "\n",
    "\n",
    "if a%2==0 :  #논리적으로 한 단위로 처리해야하는 경우 콜론(:)을 찍고, 들여쓰기로 작성 한다.\n",
    "      print(a)\n",
    "\n",
    "if b%2==0 :\n",
    "      print(b) \n",
    "\n",
    "if c%2==0 :\n",
    "      print(c) "
   ]
  },
  {
   "cell_type": "code",
   "execution_count": 1,
   "metadata": {},
   "outputs": [
    {
     "name": "stdout",
     "output_type": "stream",
     "text": [
      "2 4 8\n",
      "even\n",
      "even\n",
      "even\n"
     ]
    }
   ],
   "source": [
    "# 6066\n",
    "\n",
    "a , b , c = map(int , input().split())\n",
    "\n",
    "if a%2==0:\n",
    "    print('even')\n",
    "else:\n",
    "    print('odd')\n",
    "    \n",
    "if b%2==0:\n",
    "    print('even')\n",
    "else:\n",
    "    print('odd')\n",
    "    \n",
    "if c%2==0:\n",
    "    print('even')\n",
    "else:\n",
    "    print('odd')\n",
    "    "
   ]
  },
  {
   "cell_type": "code",
   "execution_count": 2,
   "metadata": {},
   "outputs": [
    {
     "name": "stdout",
     "output_type": "stream",
     "text": [
      "534\n",
      "C\n"
     ]
    }
   ],
   "source": [
    "# 6067\n",
    "\n",
    "a = int(input())\n",
    "\n",
    "if a < 0:\n",
    "    \n",
    "    if a%2 == 0:\n",
    "        print('A')\n",
    "    else:\n",
    "        print('B')\n",
    "else:\n",
    "    if a%2 == 0:\n",
    "        print('C')\n",
    "    else:\n",
    "        print('D')"
   ]
  },
  {
   "cell_type": "code",
   "execution_count": 7,
   "metadata": {},
   "outputs": [
    {
     "name": "stdout",
     "output_type": "stream",
     "text": [
      "39\n",
      "D\n"
     ]
    }
   ],
   "source": [
    "# 6068\n",
    "\n",
    "a = int(input())\n",
    "\n",
    "\n",
    "\n",
    "if a >= 90:\n",
    "    print('A')\n",
    "elif a >= 70:\n",
    "    print('B')\n",
    "elif a >= 40 :\n",
    "    print('C')\n",
    "else:\n",
    "    print('D')"
   ]
  },
  {
   "cell_type": "code",
   "execution_count": 10,
   "metadata": {},
   "outputs": [
    {
     "name": "stdout",
     "output_type": "stream",
     "text": [
      "ZZZ\n",
      "what?\n"
     ]
    }
   ],
   "source": [
    "# 6069\n",
    "\n",
    "a = input()\n",
    "\n",
    "\n",
    "\n",
    "if a == 'A':\n",
    "    print('best!!!')\n",
    "elif a == 'B':\n",
    "    print('good!!')\n",
    "elif a == 'C' :\n",
    "    print('run!')\n",
    "elif a == 'D' :\n",
    "    print('slowly~')\n",
    "else:\n",
    "    print('what?')"
   ]
  },
  {
   "cell_type": "code",
   "execution_count": 13,
   "metadata": {},
   "outputs": [
    {
     "name": "stdout",
     "output_type": "stream",
     "text": [
      "1231\n",
      "winter\n"
     ]
    }
   ],
   "source": [
    "# 6070\n",
    "\n",
    "a = int(input())\n",
    "\n",
    "\n",
    "\n",
    "if a // 3 == 1:\n",
    "    print('spring')\n",
    "elif a // 3 == 2:\n",
    "    print('summer')\n",
    "elif a //3 == 3 :\n",
    "    print('fall')\n",
    "else:\n",
    "    print('winter')\n"
   ]
  },
  {
   "cell_type": "code",
   "execution_count": 15,
   "metadata": {},
   "outputs": [
    {
     "name": "stdout",
     "output_type": "stream",
     "text": [
      "3\n",
      "3\n",
      "4\n",
      "4\n",
      "0\n"
     ]
    }
   ],
   "source": [
    "# 6071\n",
    "n = 1\n",
    "while n != 0:\n",
    "    \n",
    "    n = int(input())\n",
    "    \n",
    "    if n != 0:\n",
    "        print(n)\n",
    "    else:\n",
    "        break\n",
    "    "
   ]
  },
  {
   "cell_type": "code",
   "execution_count": 17,
   "metadata": {},
   "outputs": [
    {
     "name": "stdout",
     "output_type": "stream",
     "text": [
      "5\n",
      "5\n",
      "4\n",
      "3\n",
      "2\n",
      "1\n"
     ]
    }
   ],
   "source": [
    "# 6072\n",
    "\n",
    "n = int(input())\n",
    "\n",
    "while True:\n",
    "    \n",
    "\n",
    "    if n == 0:\n",
    "        break\n",
    "    else:\n",
    "        print(n)\n",
    "\n",
    "    n -=1\n",
    "    "
   ]
  },
  {
   "cell_type": "code",
   "execution_count": 19,
   "metadata": {},
   "outputs": [
    {
     "name": "stdout",
     "output_type": "stream",
     "text": [
      "5\n",
      "4\n",
      "3\n",
      "2\n",
      "1\n",
      "0\n"
     ]
    }
   ],
   "source": [
    "# 6073\n",
    "\n",
    "n = int(input())\n",
    "\n",
    "while True:\n",
    "    \n",
    "    n -=1\n",
    "    \n",
    "    if n == -1:\n",
    "        break\n",
    "    else:\n",
    "        print(n)\n",
    "\n"
   ]
  },
  {
   "cell_type": "code",
   "execution_count": 19,
   "metadata": {},
   "outputs": [
    {
     "name": "stdout",
     "output_type": "stream",
     "text": [
      "d\n",
      "a b c d "
     ]
    }
   ],
   "source": [
    "# 6074\n",
    "\n",
    "\n",
    "## ord(str) => 숫자 \n",
    "## chr(int) => 알파벳 \n",
    "\n",
    "i = ord(input())\n",
    "j = ord('a')\n",
    "\n",
    "while j <= i :\n",
    "    \n",
    "    print(chr(j) , end = ' ')\n",
    "    j += 1 "
   ]
  },
  {
   "cell_type": "code",
   "execution_count": 20,
   "metadata": {},
   "outputs": [
    {
     "name": "stdout",
     "output_type": "stream",
     "text": [
      "8\n",
      "0 1 2 3 4 5 6 7 8 "
     ]
    }
   ],
   "source": [
    "# 6075\n",
    "\n",
    "a = int(input())\n",
    "\n",
    "n = 0\n",
    "\n",
    "while True:\n",
    "    \n",
    "    \n",
    "    if n != a:    \n",
    "        print(n , end = ' ')\n",
    "    else:\n",
    "        print(n , end = ' ')\n",
    "        break\n",
    "    \n",
    "    n +=1"
   ]
  },
  {
   "cell_type": "code",
   "execution_count": 21,
   "metadata": {},
   "outputs": [
    {
     "name": "stdout",
     "output_type": "stream",
     "text": [
      "4\n",
      "0\n",
      "1\n",
      "2\n",
      "3\n",
      "4\n"
     ]
    }
   ],
   "source": [
    "# 6076\n",
    "\n",
    "a = int(input())\n",
    "\n",
    "n = 0\n",
    "\n",
    "while True:\n",
    "    \n",
    "    \n",
    "    if n != a:    \n",
    "        print(n , end = '\\n')\n",
    "    else:\n",
    "        print(n , end = '\\n')\n",
    "        break\n",
    "    \n",
    "    n +=1\n",
    "\n",
    "\n"
   ]
  },
  {
   "cell_type": "code",
   "execution_count": 24,
   "metadata": {},
   "outputs": [
    {
     "name": "stdout",
     "output_type": "stream",
     "text": [
      "231\n",
      "13340\n"
     ]
    }
   ],
   "source": [
    "# 6077 \n",
    "\n",
    "\n",
    "a = int(input())\n",
    "cnt = 0\n",
    "for i in range(1 , a+1):\n",
    "    \n",
    "    if i%2 == 0:\n",
    "        cnt +=i\n",
    "    else:\n",
    "        pass\n",
    "    \n",
    "print(cnt)\n",
    "    "
   ]
  },
  {
   "cell_type": "code",
   "execution_count": 25,
   "metadata": {},
   "outputs": [
    {
     "name": "stdout",
     "output_type": "stream",
     "text": [
      "b\n",
      "b\n",
      "c\n",
      "c\n",
      "q\n",
      "q\n"
     ]
    }
   ],
   "source": [
    "# 6078\n",
    "\n",
    "\n",
    "while True:\n",
    "    \n",
    "    ss = input()\n",
    "    print(ss , end = '\\n')\n",
    "    \n",
    "    if ss == 'q':\n",
    "        break\n"
   ]
  },
  {
   "cell_type": "code",
   "execution_count": 31,
   "metadata": {},
   "outputs": [
    {
     "name": "stdout",
     "output_type": "stream",
     "text": [
      "55\n",
      "10\n"
     ]
    }
   ],
   "source": [
    "# 6079\n",
    "\n",
    "n = int(input())\n",
    "cnt = 0\n",
    "i = 0\n",
    "\n",
    "while True:\n",
    "    \n",
    "    i += 1\n",
    "    cnt += i \n",
    "    \n",
    "    if cnt >= n:\n",
    "        print(i)\n",
    "        break\n",
    "    else:\n",
    "        pass"
   ]
  },
  {
   "cell_type": "code",
   "execution_count": 32,
   "metadata": {},
   "outputs": [
    {
     "name": "stdout",
     "output_type": "stream",
     "text": [
      "2 3\n",
      "1 1\n",
      "1 2\n",
      "1 3\n",
      "2 1\n",
      "2 2\n",
      "2 3\n"
     ]
    }
   ],
   "source": [
    "# 6080\n",
    "\n",
    "n , m = map(int , input().split())\n",
    "\n",
    "for i in range(1,n+1):\n",
    "    for j in range(1 , m+1):\n",
    "        \n",
    "        print(i , j)\n"
   ]
  },
  {
   "cell_type": "code",
   "execution_count": 44,
   "metadata": {},
   "outputs": [],
   "source": [
    "# 6081 \n",
    "\n"
   ]
  },
  {
   "cell_type": "code",
   "execution_count": 45,
   "metadata": {},
   "outputs": [],
   "source": [
    "# 6082 \n",
    "n = int(input())\n",
    "for i in range(1 , n+1):\n",
    "    \n",
    "    if str(i).count('3') | str(i).count('6') | str(i).count('9'):\n",
    "        print(\"X\" , end = ' ')\n",
    "    else:\n",
    "        print(i , end = ' ')"
   ]
  },
  {
   "cell_type": "code",
   "execution_count": 19,
   "metadata": {},
   "outputs": [
    {
     "name": "stdout",
     "output_type": "stream",
     "text": [
      "2 2 2\n",
      "0 0 0\n",
      "0 0 1\n",
      "0 1 0\n",
      "0 1 1\n",
      "1 0 0\n",
      "1 0 1\n",
      "1 1 0\n",
      "1 1 1\n",
      "8\n"
     ]
    }
   ],
   "source": [
    "# 6083 \n",
    "\n",
    "r , g , b = map(int , input().split())\n",
    "\n",
    "cnt = 0 \n",
    "for i in range(0,r):\n",
    "    for j in range(0,g):\n",
    "        for k in range(0,b):\n",
    "            print(i , j , k , end = '\\n')\n",
    "            \n",
    "            cnt += 1\n",
    "            \n",
    "print(cnt)"
   ]
  },
  {
   "cell_type": "code",
   "execution_count": 26,
   "metadata": {},
   "outputs": [
    {
     "name": "stdout",
     "output_type": "stream",
     "text": [
      "44100 16 2 10\n",
      "1.7 MB\n"
     ]
    }
   ],
   "source": [
    "# 6084 \n",
    "\n",
    "h , b , c , s = map(int , input().split())\n",
    "\n",
    "a = (h * b * c * s) / 8 / 1024 / 1024 \n",
    "print(format(a , \".1f\") , 'MB')"
   ]
  },
  {
   "cell_type": "code",
   "execution_count": 52,
   "metadata": {},
   "outputs": [
    {
     "name": "stdout",
     "output_type": "stream",
     "text": [
      "100 100 4\n",
      "0.00 MB\n"
     ]
    }
   ],
   "source": [
    "# 6085 \n",
    "w , h , b = map(int , input().split())\n",
    "\n",
    "a = (w*h*b)/8/1024/1024\n",
    "\n",
    "print(format(a , '.2f') , 'MB')"
   ]
  },
  {
   "cell_type": "code",
   "execution_count": 53,
   "metadata": {},
   "outputs": [
    {
     "name": "stdout",
     "output_type": "stream",
     "text": [
      "57\n",
      "66\n"
     ]
    }
   ],
   "source": [
    "# 6086\n",
    "\n",
    "n = int(input())\n",
    "\n",
    "i = 1 \n",
    "cnt = 0\n",
    "\n",
    "while True:\n",
    "    \n",
    "    cnt += i \n",
    "    \n",
    "    if cnt >= n:\n",
    "        print(cnt)\n",
    "        break\n",
    "    else:\n",
    "        i +=1"
   ]
  },
  {
   "cell_type": "code",
   "execution_count": 57,
   "metadata": {},
   "outputs": [
    {
     "name": "stdout",
     "output_type": "stream",
     "text": [
      "1 2 4 5 7 8 10 "
     ]
    }
   ],
   "source": [
    "# 6087\n",
    "\n",
    "n = int(input())\n",
    "for i in range(0 , n+1):\n",
    "    \n",
    "    if i % 3 !=0:\n",
    "        print(i , end = ' ')\n",
    "    else:\n",
    "        pass"
   ]
  },
  {
   "cell_type": "code",
   "execution_count": null,
   "metadata": {},
   "outputs": [],
   "source": [
    "# 6088 \n",
    "\n",
    "a , d , n = map(int , input().split())\n",
    "\n",
    "def solution(a,d,n):\n",
    "    \n",
    "    seq = a + (n-1)*d\n",
    "    \n",
    "    return seq\n",
    "\n",
    "print(solution(a,d,n))"
   ]
  },
  {
   "cell_type": "code",
   "execution_count": 63,
   "metadata": {},
   "outputs": [
    {
     "name": "stdout",
     "output_type": "stream",
     "text": [
      "2 3 7\n",
      "1458\n"
     ]
    }
   ],
   "source": [
    "# 6089 \n",
    "a , r , n = map(int , input().split())\n",
    "\n",
    "def solution(a,r,n):\n",
    "    \n",
    "    seq = a * r**(n-1)\n",
    "    \n",
    "    return seq\n",
    "\n",
    "print(solution(a,r,n))"
   ]
  },
  {
   "cell_type": "code",
   "execution_count": 68,
   "metadata": {},
   "outputs": [
    {
     "name": "stdout",
     "output_type": "stream",
     "text": [
      "1 -2 1 8\n",
      "-85\n"
     ]
    }
   ],
   "source": [
    "# 6090 \n",
    "\n",
    "a , m , d , n = map(int , input().split())\n",
    "\n",
    "cnt = a \n",
    "\n",
    "for _ in range(1 , n):\n",
    "    \n",
    "    cnt = m * cnt + d\n",
    "    \n",
    "print(cnt)"
   ]
  },
  {
   "cell_type": "code",
   "execution_count": 32,
   "metadata": {},
   "outputs": [
    {
     "name": "stdout",
     "output_type": "stream",
     "text": [
      "7 3 9\n",
      "63\n"
     ]
    }
   ],
   "source": [
    "# 6091\n",
    "\n",
    "\n",
    "# 수가 2개일 때..\n",
    "\n",
    "def gcd(a,b):\n",
    "    a , b  = max(a,b) , min(a,b)\n",
    "    \n",
    "    while b > 0:\n",
    "        \n",
    "        a , b = b , a%b\n",
    "        \n",
    "    return a \n",
    "    \n",
    "    \n",
    "def lcm(a,b):\n",
    "    \n",
    "    return int(a*b / gcd(a,b)) \n",
    "\n",
    "\n",
    "x , y , z = map(int , input().split())\n",
    "\n",
    "# 응용하기..\n",
    "\n",
    "print(lcm(lcm(x,y) , z))\n"
   ]
  },
  {
   "cell_type": "code",
   "execution_count": 33,
   "metadata": {},
   "outputs": [
    {
     "name": "stdout",
     "output_type": "stream",
     "text": [
      "10\n",
      "1 3 2 2 5 6 7 4 5 9\n"
     ]
    }
   ],
   "source": [
    "# 6092\n",
    "\n",
    "cnt = int(input())\n",
    "total = list(map(int , input().split()))\n",
    "\n",
    "for i in range(1,24):\n",
    "    print(total.count(i), end = ' ')"
   ]
  },
  {
   "cell_type": "code",
   "execution_count": 73,
   "metadata": {},
   "outputs": [
    {
     "name": "stdout",
     "output_type": "stream",
     "text": [
      "10\n",
      "10 4 2 3 6 6 7 9 8 5\n",
      "5 8 9 7 6 6 3 2 4 10 "
     ]
    }
   ],
   "source": [
    "# 6093 \n",
    "\n",
    "n = int(input())\n",
    "\n",
    "total = list(map(int , input().split()))\n",
    "\n",
    "\n",
    "\n",
    "\n",
    "for i in range(1 , n+1):\n",
    "    \n",
    "    print(total[-i] , end = ' ')"
   ]
  },
  {
   "cell_type": "code",
   "execution_count": 87,
   "metadata": {},
   "outputs": [
    {
     "name": "stdout",
     "output_type": "stream",
     "text": [
      "10\n",
      "10 4 2 3 6 6 7 9 8 5\n"
     ]
    },
    {
     "data": {
      "text/plain": [
       "[2, 3, 4, 5, 6, 6, 7, 8, 9, 10]"
      ]
     },
     "execution_count": 87,
     "metadata": {},
     "output_type": "execute_result"
    }
   ],
   "source": [
    "# 6094\n",
    "\n",
    "n = int(input())\n",
    "\n",
    "total = list(map(int , input().split()))\n",
    "\n",
    "\n",
    "print(min(total))"
   ]
  },
  {
   "cell_type": "code",
   "execution_count": 199,
   "metadata": {
    "scrolled": true
   },
   "outputs": [],
   "source": [
    "# 6095\n",
    "n = int(input())\n",
    "a = [[0 for j in range(19)] for i in range(19)]\n",
    "\n",
    "for _ in range(0,n):\n",
    "    x , y = map(int , input().split())\n",
    "    \n",
    "    a[x-1][y-1] = 1\n",
    "    #print(a)\n",
    "    \n",
    "for i in a:\n",
    "    print(*i , end = '\\n')"
   ]
  },
  {
   "cell_type": "code",
   "execution_count": null,
   "metadata": {},
   "outputs": [],
   "source": [
    "# 6096\n",
    "\n",
    "\n",
    "space = []\n",
    "\n",
    "for _ in range(19):\n",
    "    space.append(list(map(int , input().split())))\n",
    "    \n",
    "    \n",
    "n = int(input())\n",
    "\n",
    "\n",
    "for _ in range(n):\n",
    "    \n",
    "    x , y = map(int , input().split())\n",
    "    \n",
    "    \n",
    "    # ex : x = 10\n",
    "    \n",
    "    # 왼쪽\n",
    "    \n",
    "    for i in range(0,y-1):\n",
    "        if space[x-1][i] == 0:\n",
    "            space[x-1][i] = 1 \n",
    "        else:\n",
    "            space[x-1][i] = 0\n",
    "    \n",
    "    # 오른쪽\n",
    "    \n",
    "    for i in range(y,19):\n",
    "        if space[x-1][i] == 0:\n",
    "            space[x-1][i] = 1 \n",
    "        else:\n",
    "            space[x-1][i] = 0\n",
    "\n",
    "    \n",
    "    # 위\n",
    "    \n",
    "    for i in range(0,x-1):\n",
    "        if space[i][y-1] == 0:\n",
    "            space[i][y-1] = 1 \n",
    "        else:\n",
    "            space[i][y-1] = 0\n",
    "    \n",
    "    # 아래 \n",
    "    for i in range(x,19):\n",
    "        if space[i][y-1] == 0:\n",
    "            space[i][y-1] = 1 \n",
    "        else:\n",
    "            space[i][y-1] = 0\n",
    "              \n",
    "                \n",
    "for i in space:\n",
    "    print(*i , end = '\\n')"
   ]
  },
  {
   "cell_type": "code",
   "execution_count": 14,
   "metadata": {},
   "outputs": [
    {
     "name": "stdout",
     "output_type": "stream",
     "text": [
      "5 5\n",
      "3\n",
      "2 0 1 1\n",
      "3 1 2 3\n",
      "4 1 2 5\n",
      "1 1 0 0 0\n",
      "0 0 1 0 1\n",
      "0 0 1 0 1\n",
      "0 0 1 0 1\n",
      "0 0 0 0 1\n"
     ]
    }
   ],
   "source": [
    "# 6097\n",
    "\n",
    "# h : 세로  , w : 가로 \n",
    "\n",
    "h , w = map(int , input().split())\n",
    "space = [[0 for i in range(w)] for i in range(h)]\n",
    "\n",
    "n = int(input())\n",
    "\n",
    "# l : 막대길이 \n",
    "# d:0 가로 / d:1 세로 \n",
    "# x,y: 가장 왼쪽 좌표(d:가로) or 맨 위쪽(d:세로) \n",
    "# (1,1) ~ (h,w)\n",
    "\n",
    "for i in range(n):\n",
    "    \n",
    "    l , d , x , y = map(int , input().split())\n",
    "    \n",
    "    if d == 0: # 막대가 가로일 때 \n",
    "        \n",
    "        for j in range(0 , l):\n",
    "            space[x-1][y-1+j] = 1\n",
    "            \n",
    "    else:\n",
    "        \n",
    "        for k in range(0 , l):\n",
    "            space[x-1+k][y-1] = 1\n",
    "            \n",
    "            \n",
    "for i in space:\n",
    "    print(*i , end = '\\n')\n"
   ]
  },
  {
   "cell_type": "code",
   "execution_count": 1,
   "metadata": {},
   "outputs": [
    {
     "ename": "KeyboardInterrupt",
     "evalue": "Interrupted by user",
     "output_type": "error",
     "traceback": [
      "\u001b[1;31m---------------------------------------------------------------------------\u001b[0m",
      "\u001b[1;31mKeyboardInterrupt\u001b[0m                         Traceback (most recent call last)",
      "\u001b[1;32m<ipython-input-1-5533864e5050>\u001b[0m in \u001b[0;36m<module>\u001b[1;34m\u001b[0m\n\u001b[0;32m      6\u001b[0m \u001b[1;33m\u001b[0m\u001b[0m\n\u001b[0;32m      7\u001b[0m \u001b[1;32mfor\u001b[0m \u001b[0m_\u001b[0m \u001b[1;32min\u001b[0m \u001b[0mrange\u001b[0m\u001b[1;33m(\u001b[0m\u001b[1;36m10\u001b[0m\u001b[1;33m)\u001b[0m\u001b[1;33m:\u001b[0m\u001b[1;33m\u001b[0m\u001b[1;33m\u001b[0m\u001b[0m\n\u001b[1;32m----> 8\u001b[1;33m     \u001b[0mspace\u001b[0m\u001b[1;33m.\u001b[0m\u001b[0mappend\u001b[0m\u001b[1;33m(\u001b[0m\u001b[0mlist\u001b[0m\u001b[1;33m(\u001b[0m\u001b[0mmap\u001b[0m\u001b[1;33m(\u001b[0m\u001b[0mint\u001b[0m \u001b[1;33m,\u001b[0m \u001b[0minput\u001b[0m\u001b[1;33m(\u001b[0m\u001b[1;33m)\u001b[0m\u001b[1;33m.\u001b[0m\u001b[0msplit\u001b[0m\u001b[1;33m(\u001b[0m\u001b[1;33m)\u001b[0m\u001b[1;33m)\u001b[0m\u001b[1;33m)\u001b[0m\u001b[1;33m)\u001b[0m\u001b[1;33m\u001b[0m\u001b[1;33m\u001b[0m\u001b[0m\n\u001b[0m\u001b[0;32m      9\u001b[0m \u001b[1;33m\u001b[0m\u001b[0m\n\u001b[0;32m     10\u001b[0m \u001b[1;33m\u001b[0m\u001b[0m\n",
      "\u001b[1;32m~\\anaconda3\\lib\\site-packages\\ipykernel\\kernelbase.py\u001b[0m in \u001b[0;36mraw_input\u001b[1;34m(self, prompt)\u001b[0m\n\u001b[0;32m    861\u001b[0m             \u001b[0mself\u001b[0m\u001b[1;33m.\u001b[0m\u001b[0m_parent_ident\u001b[0m\u001b[1;33m,\u001b[0m\u001b[1;33m\u001b[0m\u001b[1;33m\u001b[0m\u001b[0m\n\u001b[0;32m    862\u001b[0m             \u001b[0mself\u001b[0m\u001b[1;33m.\u001b[0m\u001b[0m_parent_header\u001b[0m\u001b[1;33m,\u001b[0m\u001b[1;33m\u001b[0m\u001b[1;33m\u001b[0m\u001b[0m\n\u001b[1;32m--> 863\u001b[1;33m             \u001b[0mpassword\u001b[0m\u001b[1;33m=\u001b[0m\u001b[1;32mFalse\u001b[0m\u001b[1;33m,\u001b[0m\u001b[1;33m\u001b[0m\u001b[1;33m\u001b[0m\u001b[0m\n\u001b[0m\u001b[0;32m    864\u001b[0m         )\n\u001b[0;32m    865\u001b[0m \u001b[1;33m\u001b[0m\u001b[0m\n",
      "\u001b[1;32m~\\anaconda3\\lib\\site-packages\\ipykernel\\kernelbase.py\u001b[0m in \u001b[0;36m_input_request\u001b[1;34m(self, prompt, ident, parent, password)\u001b[0m\n\u001b[0;32m    902\u001b[0m             \u001b[1;32mexcept\u001b[0m \u001b[0mKeyboardInterrupt\u001b[0m\u001b[1;33m:\u001b[0m\u001b[1;33m\u001b[0m\u001b[1;33m\u001b[0m\u001b[0m\n\u001b[0;32m    903\u001b[0m                 \u001b[1;31m# re-raise KeyboardInterrupt, to truncate traceback\u001b[0m\u001b[1;33m\u001b[0m\u001b[1;33m\u001b[0m\u001b[1;33m\u001b[0m\u001b[0m\n\u001b[1;32m--> 904\u001b[1;33m                 \u001b[1;32mraise\u001b[0m \u001b[0mKeyboardInterrupt\u001b[0m\u001b[1;33m(\u001b[0m\u001b[1;34m\"Interrupted by user\"\u001b[0m\u001b[1;33m)\u001b[0m \u001b[1;32mfrom\u001b[0m \u001b[1;32mNone\u001b[0m\u001b[1;33m\u001b[0m\u001b[1;33m\u001b[0m\u001b[0m\n\u001b[0m\u001b[0;32m    905\u001b[0m             \u001b[1;32mexcept\u001b[0m \u001b[0mException\u001b[0m \u001b[1;32mas\u001b[0m \u001b[0me\u001b[0m\u001b[1;33m:\u001b[0m\u001b[1;33m\u001b[0m\u001b[1;33m\u001b[0m\u001b[0m\n\u001b[0;32m    906\u001b[0m                 \u001b[0mself\u001b[0m\u001b[1;33m.\u001b[0m\u001b[0mlog\u001b[0m\u001b[1;33m.\u001b[0m\u001b[0mwarning\u001b[0m\u001b[1;33m(\u001b[0m\u001b[1;34m\"Invalid Message:\"\u001b[0m\u001b[1;33m,\u001b[0m \u001b[0mexc_info\u001b[0m\u001b[1;33m=\u001b[0m\u001b[1;32mTrue\u001b[0m\u001b[1;33m)\u001b[0m\u001b[1;33m\u001b[0m\u001b[1;33m\u001b[0m\u001b[0m\n",
      "\u001b[1;31mKeyboardInterrupt\u001b[0m: Interrupted by user"
     ]
    }
   ],
   "source": [
    "# 6098 \n",
    "\n",
    "#개미집 생성\n",
    "\n",
    "space = []\n",
    "\n",
    "for _ in range(10):\n",
    "    space.append(list(map(int , input().split())))\n",
    "    \n",
    "    \n",
    "# 맨 아래의 가장 오른쪽에 도착한 경우 => (10,10)에 위치\n",
    "# 더 이상 움직일 수 없는 경우 => 1로 막혀있는 경우(왼쪽/위쪽)X\n",
    "# 먹이를 찾은 경우에는 => '2'에 도착\n",
    "# 더이상 이동하지 않고 그 곳에 머무른다고 가정\n",
    "\n",
    "\n",
    "# 개미는 (2,2)에서 출발함. \n",
    "\n",
    "\n",
    "\n",
    "space[1][1] = 9\n",
    "\n",
    "cnt_x , cnt_y = 1 , 1\n",
    "\n",
    "while (True):\n",
    "    \n",
    "    # 오른쪽부터 보자 \n",
    "     \n",
    "    if ((cnt_x == 9 and cnt_y == 9) | \n",
    "    (cnt_x == 9 and space[cnt_x][cnt_y+1] ==1)|\n",
    "    (cnt_y == 9 and space[cnt_x+1][cnt_y] ==1)|\n",
    "    (space[cnt_x][cnt_y+1] == 1 and space[cnt_x+1][cnt_y] ==1) ):\n",
    "        \n",
    "        \n",
    "        break\n",
    " \n",
    "    \n",
    "    \n",
    "    else:\n",
    "        \n",
    "        if space[cnt_x][cnt_y + 1] != 1:\n",
    "\n",
    "            if space[cnt_x][cnt_y + 1] == 2:\n",
    "\n",
    "                space[cnt_x][cnt_y + 1] = 9\n",
    "\n",
    "                break\n",
    "\n",
    "            else:\n",
    "                space[cnt_x][cnt_y + 1] = 9\n",
    "                cnt_x , cnt_y = cnt_x , cnt_y+1\n",
    "\n",
    "        elif space[cnt_x+1][cnt_y] != 1:\n",
    "\n",
    "            if space[cnt_x+1][cnt_y] == 2:\n",
    "\n",
    "                space[cnt_x+1][cnt_y] = 9\n",
    "                break\n",
    "\n",
    "            else:\n",
    "                space[cnt_x+1][cnt_y] = 9\n",
    "                cnt_x , cnt_y = cnt_x+1 , cnt_y\n",
    "        \n",
    "for i in space:\n",
    "    print(*i , end = '\\n')\n",
    "        "
   ]
  }
 ],
 "metadata": {
  "kernelspec": {
   "display_name": "Python 3",
   "language": "python",
   "name": "python3"
  },
  "language_info": {
   "codemirror_mode": {
    "name": "ipython",
    "version": 3
   },
   "file_extension": ".py",
   "mimetype": "text/x-python",
   "name": "python",
   "nbconvert_exporter": "python",
   "pygments_lexer": "ipython3",
   "version": "3.7.9"
  }
 },
 "nbformat": 4,
 "nbformat_minor": 4
}
